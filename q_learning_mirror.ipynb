{
 "cells": [
  {
   "cell_type": "code",
   "execution_count": 1,
   "metadata": {},
   "outputs": [],
   "source": [
    "# Configured for Game of Mirros\n",
    "\n",
    "import numpy as np\n",
    "import pylab as pl\n",
    "import networkx as nx\n",
    "\n",
    "import random "
   ]
  },
  {
   "cell_type": "code",
   "execution_count": 2,
   "metadata": {},
   "outputs": [],
   "source": [
    "# Define the state transition function\n",
    "# This is the probability that for a given action from a particular state \n",
    "# the agent will move to the next state.\n",
    "\n",
    "# ( current state, action, probability )\n",
    "\n",
    "\n",
    "\n"
   ]
  },
  {
   "cell_type": "code",
   "execution_count": 3,
   "metadata": {},
   "outputs": [],
   "source": [
    "# Define the sim environment class that accepts both human input and agent input\n",
    "class Sim:\n",
    "    # initialize with LEDs off\n",
    "    g1 : bool = False\n",
    "    g2 : bool = False\n",
    "\n",
    "    # list of states allowed\n",
    "    states : list = [\n",
    "        'g1-on, g2-on',  # index 0\n",
    "        'g1-on, g2-off',\n",
    "        'g1-off, g2-on',\n",
    "        'g1-off, g2-off'\n",
    "    ]\n",
    "\n",
    "    action_list : list = [\n",
    "        'no_action', #0\n",
    "        'g2_off',    #1\n",
    "        'g2_on'      #2\n",
    "    ]\n",
    "\n",
    "    # Possible actions for each state\n",
    "    # refer to the states by index\n",
    "    actions = { \n",
    "        0 : [0, 1],  # no action or g2_off\n",
    "        1 : [0, 2],  # no action or etc...\n",
    "        2 : [0, 1],\n",
    "        3 : [0, 2]  \n",
    "    }\n",
    "\n",
    "    def __init__(self) -> None:\n",
    "        # send initial state to the aruido board\n",
    "        self.g1 = False\n",
    "        self.g2 = False\n",
    "        return\n",
    "\n",
    "    def query_state(self) -> str:\n",
    "        if self.g1 & self.g2:\n",
    "            return self.states[0]    #'g1-on, g2-on'\n",
    "        if self.g1 & ~self.g2:\n",
    "            return self.states[1]    #'g1-on, g2-off'\n",
    "        if ~self.g1 & self.g2:\n",
    "            return self.states[2]    #'g1-off, g2-on'\n",
    "        if ~self.g1 & ~self.g2:\n",
    "            return self.states[3]    #'g1-off, g2-off'\n",
    "        return 'error'       \n",
    "    \n",
    "    def agent_takes_action(self, action : str) -> None:\n",
    "        action_index = self.action_list.index(action)\n",
    "\n",
    "         # no action\n",
    "        if action_index == 0:\n",
    "            return False        \n",
    "        \n",
    "        # otherwise agent takes action:\n",
    "        if (action_index == 1) and self.g2:  # g2_off\n",
    "            self.g2 = False\n",
    "            return True\n",
    "\n",
    "        if (action_index == 2) and ~self.g2:\n",
    "            self.g2 = True\n",
    "            return True\n",
    "\n",
    "        return False    \n",
    "\n",
    "    # the reward is calculate based on if G1 == G2\n",
    "    def get_reward(self):\n",
    "        if self.g1 == self.g2:\n",
    "            return 10        \n",
    "        return 0\n",
    "        \n",
    "\n",
    "    def hello(self):\n",
    "        return 0\n",
    "    \n",
    "\n",
    "\n"
   ]
  },
  {
   "cell_type": "code",
   "execution_count": 4,
   "metadata": {},
   "outputs": [],
   "source": [
    "\n",
    "# Update the Q matrix and return the score\n",
    "# aka Q-table\n",
    "# The Q-matrix is a table that has one row for each state and one column for each possible action. Each entry in the table \n",
    "# represents the expected future reward that an agent can achieve by taking a particular action in a given state. \n",
    "\n",
    "def update(Q:np.matrix, current_state:int, action:int, gamma:float, my_sim : Sim)->float:  \n",
    "  \n",
    "  # based on the action the agent is taking look up the next state:\n",
    "  # 'action' is effectively the next state, so Q[action, ] get the current scores for this next state\n",
    "  # here we get the best next action that has being learned, could be tied occurance, so max_index can have multiple values  \n",
    "  # this is GREEDY algorthim: (i.e. no exploration)\n",
    "  max_indexes = np.where(Q[action, ] == np.max(Q[action, ]))[1]\n",
    "  \n",
    "  if max_indexes.shape[0] > 1:  # if there are multiple best next actions, choose one randomly\n",
    "      max_index = int(np.random.choice(max_indexes, size = 1))\n",
    "  else: # otherwise just choose the only index available:\n",
    "      max_index = int(max_indexes)\n",
    "\n",
    "  # previous reward value:\n",
    "  max_value = Q[action, max_index]\n",
    "\n",
    "  Q[current_state, action] = my_sim.get_reward() + gamma * max_value\n",
    "  \n",
    "  # Return the 'avg score' or reward obtained so far in the Q matrix\n",
    "  if (np.max(Q) > 0):\n",
    "    return np.sum(Q / np.max(Q)*100)\n",
    "  else:\n",
    "    return 0\n",
    "  "
   ]
  },
  {
   "cell_type": "code",
   "execution_count": 8,
   "metadata": {},
   "outputs": [
    {
     "ename": "KeyError",
     "evalue": "'g1-off, g2-off'",
     "output_type": "error",
     "traceback": [
      "\u001b[1;31m---------------------------------------------------------------------------\u001b[0m",
      "\u001b[1;31mKeyError\u001b[0m                                  Traceback (most recent call last)",
      "Cell \u001b[1;32mIn[8], line 34\u001b[0m\n\u001b[0;32m     32\u001b[0m learning_steps \u001b[39m=\u001b[39m \u001b[39m1000\u001b[39m\n\u001b[0;32m     33\u001b[0m \u001b[39mfor\u001b[39;00m i \u001b[39min\u001b[39;00m \u001b[39mrange\u001b[39m(\u001b[39m0\u001b[39m, learning_steps):        \n\u001b[1;32m---> 34\u001b[0m     next_action \u001b[39m=\u001b[39m agent_decide_action(sim\u001b[39m.\u001b[39;49mactions[current_state])                 \u001b[39m# Random selection\u001b[39;00m\n\u001b[0;32m     36\u001b[0m     \u001b[39m# based on the next action determine which state the agent will be in\u001b[39;00m\n\u001b[0;32m     37\u001b[0m     sim\u001b[39m.\u001b[39magent_takes_action(next_action)\n",
      "\u001b[1;31mKeyError\u001b[0m: 'g1-off, g2-off'"
     ]
    }
   ],
   "source": [
    "# Q Matrix\n",
    "# this contains the learned path, Q-values, represents the 'cummulative reward' an agent will rec in each state\n",
    "# # the Q-value represents how 'good' the action in a particular state is\n",
    "# The Bellman equation provides a recursive relationship between the value of a state and the values of its neighboring states. \n",
    "# It is a fundamental concept in reinforcement learning and is used to update the Q-values in Q-learning.\n",
    "# The proof that the Bellman equation will converge to the optimal Q-values is based on the following assumptions:\n",
    "# The environment is stationary, meaning that the transition probabilities and rewards are constant over time.\n",
    "# The agent explores all state-action pairs infinitely often.\n",
    "# The learning rate parameter used to update the Q-values satisfies the Robbins-Monro conditions.\n",
    "# Under these assumptions, it can be shown that the Q-values converge to the true Q-values with probability \n",
    "# 1. This means that as the number of iterations approaches infinity, the Q-values obtained through Q-learning will converge to the optimal Q-values.\n",
    "# The proof for this convergence is provided in many reinforcement learning textbooks, \n",
    "# including \"Reinforcement Learning: An Introduction\" by Sutton and Barto, and \"Algorithms for Reinforcement Learning\" by Csaba Szepesvári. \n",
    "# The proof involves the use of the theory of stochastic approximation, and it is quite technical. If you're interested, I recommend reading one of these textbooks for a detailed explanation of the proof.\n",
    "\n",
    "\n",
    "# Chooses one of the available actions at random\n",
    "def agent_decide_action(available_actions : list) -> int:\n",
    "    random_index = random.randint(0, len(available_actions)-1)    \n",
    "    return available_actions[random_index]\n",
    "\n",
    "sim : Sim = Sim()\n",
    "\n",
    "Q = np.matrix(np.zeros([len(sim.states), len(sim.actions)]))  \n",
    "\n",
    "gamma = 0.75        # learning rate\n",
    "scores = []         # this contains the average learned reward at each training step used for \n",
    "\n",
    "# Get the initial state the environment is in\n",
    "current_state = sim.query_state()\n",
    "\n",
    "learning_steps = 1000\n",
    "for i in range(0, learning_steps):        \n",
    "    next_action = agent_decide_action(sim.actions[current_state])                 # Random selection\n",
    "\n",
    "    # based on the next action determine which state the agent will be in\n",
    "    sim.agent_takes_action(next_action)\n",
    "\n",
    "    # get the reward for this action\n",
    "    score = update(Q, current_state, sim.query_state(), gamma)        # \n",
    "    scores.append(score)\n",
    "    current_state = next_action\n",
    "  \n",
    "print(\"Trained Q matrix:\")\n",
    "print(Q / np.max(Q)*100)\n"
   ]
  },
  {
   "cell_type": "code",
   "execution_count": 6,
   "metadata": {},
   "outputs": [
    {
     "ename": "KeyboardInterrupt",
     "evalue": "",
     "output_type": "error",
     "traceback": [
      "\u001b[1;31m---------------------------------------------------------------------------\u001b[0m",
      "\u001b[1;31mKeyboardInterrupt\u001b[0m                         Traceback (most recent call last)",
      "Cell \u001b[1;32mIn[6], line 8\u001b[0m\n\u001b[0;32m      6\u001b[0m next_step_index \u001b[39m=\u001b[39m np\u001b[39m.\u001b[39mwhere(Q[current_state, ] \u001b[39m==\u001b[39m np\u001b[39m.\u001b[39mmax(Q[current_state, ]))[\u001b[39m1\u001b[39m]\n\u001b[0;32m      7\u001b[0m \u001b[39mif\u001b[39;00m next_step_index\u001b[39m.\u001b[39mshape[\u001b[39m0\u001b[39m] \u001b[39m>\u001b[39m \u001b[39m1\u001b[39m:\n\u001b[1;32m----> 8\u001b[0m     next_step_index \u001b[39m=\u001b[39m \u001b[39mint\u001b[39m(np\u001b[39m.\u001b[39;49mrandom\u001b[39m.\u001b[39;49mchoice(next_step_index, size \u001b[39m=\u001b[39;49m \u001b[39m1\u001b[39;49m))\n\u001b[0;32m      9\u001b[0m \u001b[39melse\u001b[39;00m:\n\u001b[0;32m     10\u001b[0m     next_step_index \u001b[39m=\u001b[39m \u001b[39mint\u001b[39m(next_step_index)\n",
      "\u001b[1;31mKeyboardInterrupt\u001b[0m: "
     ]
    }
   ],
   "source": [
    "\n",
    "# Testing\n",
    "current_state = 0\n",
    "steps = [current_state]  # initialize at current state\n",
    "  \n",
    "while current_state != 10:  \n",
    "    next_step_index = np.where(Q[current_state, ] == np.max(Q[current_state, ]))[1]\n",
    "    if next_step_index.shape[0] > 1:\n",
    "        next_step_index = int(np.random.choice(next_step_index, size = 1))\n",
    "    else:\n",
    "        next_step_index = int(next_step_index)\n",
    "    steps.append(next_step_index)\n",
    "    current_state = next_step_index\n",
    "  \n",
    "print(\"Most efficient path:\")\n",
    "print(steps)\n",
    "  \n",
    "pl.plot(scores)\n",
    "pl.xlabel('No of iterations')\n",
    "pl.ylabel('Reward gained')\n",
    "pl.show()"
   ]
  },
  {
   "cell_type": "code",
   "execution_count": null,
   "metadata": {},
   "outputs": [
    {
     "name": "stdout",
     "output_type": "stream",
     "text": [
      "Most efficient path:\n",
      "[0, 1, 3, 9, 10]\n"
     ]
    },
    {
     "data": {
      "image/png": "[encoded data removed]",
      "text/plain": [
       "<Figure size 640x480 with 1 Axes>"
      ]
     },
     "metadata": {},
     "output_type": "display_data"
    }
   ],
   "source": [
    "\n",
    "# Testing\n",
    "current_state = 0\n",
    "steps = [current_state]  # initialize at current state\n",
    "  \n",
    "while current_state != 10:  \n",
    "    next_step_index = np.where(Q[current_state, ] == np.max(Q[current_state, ]))[1]\n",
    "    if next_step_index.shape[0] > 1:\n",
    "        next_step_index = int(np.random.choice(next_step_index, size = 1))\n",
    "    else:\n",
    "        next_step_index = int(next_step_index)\n",
    "    steps.append(next_step_index)\n",
    "    current_state = next_step_index\n",
    "  \n",
    "print(\"Most efficient path:\")\n",
    "print(steps)\n",
    "  \n",
    "pl.plot(scores)\n",
    "pl.xlabel('No of iterations')\n",
    "pl.ylabel('Reward gained')\n",
    "pl.show()"
   ]
  },
  {
   "cell_type": "code",
   "execution_count": null,
   "metadata": {},
   "outputs": [
    {
     "data": {
      "text/plain": [
       "matrix([[126.16114349,   0.        , 126.50892537, 224.90475622,\n",
       "           0.        , 126.50892537,   0.        , 168.7273982 ,\n",
       "           0.        ,   0.        ,   0.        ]])"
      ]
     },
     "execution_count": 17,
     "metadata": {},
     "output_type": "execute_result"
    }
   ],
   "source": [
    "Q[1,]"
   ]
  },
  {
   "cell_type": "code",
   "execution_count": null,
   "metadata": {},
   "outputs": [],
   "source": []
  }
 ],
 "metadata": {
  "kernelspec": {
   "display_name": "Python 3",
   "language": "python",
   "name": "python3"
  },
  "language_info": {
   "codemirror_mode": {
    "name": "ipython",
    "version": 3
   },
   "file_extension": ".py",
   "mimetype": "text/x-python",
   "name": "python",
   "nbconvert_exporter": "python",
   "pygments_lexer": "ipython3",
   "version": "3.8.0"
  },
  "orig_nbformat": 4,
  "vscode": {
   "interpreter": {
    "hash": "ce187e7737ea502ddeb13b2429ee69ab511b4fddaa83a1c6fa99b41816e9e931"
   }
  }
 },
 "nbformat": 4,
 "nbformat_minor": 2
}
